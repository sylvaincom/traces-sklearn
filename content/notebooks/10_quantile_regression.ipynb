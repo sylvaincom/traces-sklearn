{
 "cells": [
  {
   "cell_type": "markdown",
   "id": "32ab0ad1",
   "metadata": {},
   "source": [
    "\n",
    "# Quantile regression\n",
    "\n",
    "This notebook explores how to predict intervals with available techniques in\n",
    "scikit-learn.\n",
    "\n",
    "We cover a subset of available techniques. For instance, conformal predictions\n",
    "handle this specific task - see packages like MAPIE for broader coverage:\n",
    "https://github.com/scikit-learn-contrib/MAPIE.\n",
    "\n",
    "## Predicting intervals with linear models\n",
    "\n",
    "This section revisits linear models and shows how to predict intervals with\n",
    "quantile regression.\n",
    "\n",
    "First, let's load our penguins dataset for our regression task."
   ]
  },
  {
   "cell_type": "code",
   "execution_count": null,
   "id": "c9eda860",
   "metadata": {},
   "outputs": [],
   "source": [
    "# When using JupyterLite, uncomment and install the `skrub` package.\n",
    "%pip install skrub\n",
    "import matplotlib.pyplot as plt\n",
    "import skrub\n",
    "\n",
    "skrub.patch_display()"
   ]
  },
  {
   "cell_type": "code",
   "execution_count": null,
   "id": "98381466",
   "metadata": {},
   "outputs": [],
   "source": [
    "import pandas as pd\n",
    "\n",
    "penguins = pd.read_csv(\"../datasets/penguins_regression.csv\")\n",
    "penguins"
   ]
  },
  {
   "cell_type": "markdown",
   "id": "8d379dc5",
   "metadata": {},
   "source": [
    "\n",
    "In this dataset, we predict the body mass of a penguin given its flipper\n",
    "length."
   ]
  },
  {
   "cell_type": "code",
   "execution_count": null,
   "id": "46eed18d",
   "metadata": {},
   "outputs": [],
   "source": [
    "X = penguins[[\"Flipper Length (mm)\"]]\n",
    "y = penguins[\"Body Mass (g)\"]"
   ]
  },
  {
   "cell_type": "markdown",
   "id": "90ca0bca",
   "metadata": {},
   "source": [
    "\n",
    "In our study of linear models, we saw that `LinearRegression` minimizes the mean\n",
    "squared error and predicts the conditional mean of the target.\n",
    "\n",
    "Here, we fit this model and predict several data points between the minimum and\n",
    "maximum flipper length."
   ]
  },
  {
   "cell_type": "code",
   "execution_count": null,
   "id": "39a78b85",
   "metadata": {},
   "outputs": [],
   "source": [
    "from sklearn.linear_model import LinearRegression\n",
    "\n",
    "model_estimate_mean = LinearRegression()\n",
    "model_estimate_mean.fit(X, y)"
   ]
  },
  {
   "cell_type": "code",
   "execution_count": null,
   "id": "9833a15e",
   "metadata": {},
   "outputs": [],
   "source": [
    "import numpy as np\n",
    "\n",
    "X_test = pd.DataFrame(\n",
    "    {\"Flipper Length (mm)\": np.linspace(X.min(axis=None), X.max(axis=None), 100)}\n",
    ")\n",
    "y_pred_mean = model_estimate_mean.predict(X_test)"
   ]
  },
  {
   "cell_type": "code",
   "execution_count": null,
   "id": "03702e07",
   "metadata": {},
   "outputs": [],
   "source": [
    "_, ax = plt.subplots()\n",
    "penguins.plot.scatter(x=\"Flipper Length (mm)\", y=\"Body Mass (g)\", ax=ax, alpha=0.5)\n",
    "ax.plot(\n",
    "    X_test[\"Flipper Length (mm)\"],\n",
    "    y_pred_mean,\n",
    "    color=\"tab:orange\",\n",
    "    label=\"predicted mean\",\n",
    "    linewidth=3,\n",
    ")\n",
    "ax.legend()\n",
    "plt.show()"
   ]
  },
  {
   "cell_type": "markdown",
   "id": "975f925a",
   "metadata": {},
   "source": [
    "\n",
    "We discussed how mean estimators become sensitive to outliers. Sometimes we\n",
    "prefer a more robust estimator like the median.\n",
    "\n",
    "Here, `QuantileRegressor` minimizes the mean absolute error and predicts the\n",
    "conditional median."
   ]
  },
  {
   "cell_type": "code",
   "execution_count": null,
   "id": "33e249a2",
   "metadata": {},
   "outputs": [],
   "source": [
    "from sklearn.linear_model import QuantileRegressor\n",
    "\n",
    "model_estimate_median = QuantileRegressor(quantile=0.5)\n",
    "model_estimate_median.fit(X, y)\n",
    "y_pred_median = model_estimate_median.predict(X_test)"
   ]
  },
  {
   "cell_type": "code",
   "execution_count": null,
   "id": "99426da4",
   "metadata": {},
   "outputs": [],
   "source": [
    "_, ax = plt.subplots()\n",
    "penguins.plot.scatter(x=\"Flipper Length (mm)\", y=\"Body Mass (g)\", ax=ax, alpha=0.5)\n",
    "ax.plot(\n",
    "    X_test[\"Flipper Length (mm)\"],\n",
    "    y_pred_mean,\n",
    "    color=\"tab:orange\",\n",
    "    label=\"predicted mean\",\n",
    "    linewidth=3,\n",
    ")\n",
    "ax.plot(\n",
    "    X_test[\"Flipper Length (mm)\"],\n",
    "    y_pred_median,\n",
    "    color=\"tab:green\",\n",
    "    label=\"predicted median\",\n",
    "    linewidth=3,\n",
    "    linestyle=\"--\",\n",
    ")\n",
    "ax.legend()\n",
    "plt.show()"
   ]
  },
  {
   "cell_type": "markdown",
   "id": "436a3f7b",
   "metadata": {},
   "source": [
    "\n",
    "For confidence intervals, we want to predict specific quantiles. We generalize\n",
    "quantile regression beyond the median. The pinball loss generalizes the mean\n",
    "absolute error for any quantile.\n",
    "\n",
    "The `quantile` parameter sets which quantile to predict. For an 80% prediction\n",
    "interval, we predict the 10th and 90th percentiles."
   ]
  },
  {
   "cell_type": "code",
   "execution_count": null,
   "id": "f19237cc",
   "metadata": {},
   "outputs": [],
   "source": [
    "model_estimate_10 = QuantileRegressor(quantile=0.1)\n",
    "model_estimate_90 = QuantileRegressor(quantile=0.9)\n",
    "\n",
    "model_estimate_10.fit(X, y)\n",
    "model_estimate_90.fit(X, y)\n",
    "\n",
    "y_pred_10 = model_estimate_10.predict(X_test)\n",
    "y_pred_90 = model_estimate_90.predict(X_test)"
   ]
  },
  {
   "cell_type": "code",
   "execution_count": null,
   "id": "3ef1e937",
   "metadata": {},
   "outputs": [],
   "source": [
    "_, ax = plt.subplots()\n",
    "penguins.plot.scatter(x=\"Flipper Length (mm)\", y=\"Body Mass (g)\", ax=ax, alpha=0.5)\n",
    "ax.plot(\n",
    "    X_test[\"Flipper Length (mm)\"],\n",
    "    y_pred_mean,\n",
    "    color=\"tab:orange\",\n",
    "    label=\"predicted mean\",\n",
    "    linewidth=3,\n",
    ")\n",
    "ax.plot(\n",
    "    X_test[\"Flipper Length (mm)\"],\n",
    "    y_pred_median,\n",
    "    color=\"tab:green\",\n",
    "    label=\"predicted median\",\n",
    "    linewidth=3,\n",
    "    linestyle=\"--\",\n",
    ")\n",
    "ax.fill_between(\n",
    "    X_test[\"Flipper Length (mm)\"],\n",
    "    y_pred_10,\n",
    "    y_pred_90,\n",
    "    alpha=0.2,\n",
    "    label=\"80% coverage interval\",\n",
    ")\n",
    "ax.legend()\n",
    "plt.show()"
   ]
  },
  {
   "cell_type": "markdown",
   "id": "28a88923",
   "metadata": {},
   "source": [
    "\n",
    "## Predicting intervals with tree-based models\n",
    "\n",
    "**Exercise**:\n",
    "\n",
    "Now repeat the previous experiment using `HistGradientBoostingRegressor`. Read\n",
    "the documentation to find the parameters that optimize the right loss function.\n",
    "\n",
    "Plot the conditional mean, median and 80% prediction interval."
   ]
  },
  {
   "cell_type": "code",
   "execution_count": null,
   "id": "8a5081f4",
   "metadata": {},
   "outputs": [],
   "source": [
    "# Write your code here."
   ]
  }
 ],
 "metadata": {
  "jupytext": {
   "cell_metadata_filter": "-all",
   "main_language": "python",
   "notebook_metadata_filter": "-all"
  }
 },
 "nbformat": 4,
 "nbformat_minor": 5
}
