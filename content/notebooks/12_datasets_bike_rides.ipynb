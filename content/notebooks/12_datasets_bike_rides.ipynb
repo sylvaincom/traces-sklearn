{
 "cells": [
  {
   "cell_type": "markdown",
   "id": "a72c9c2b",
   "metadata": {},
   "source": [
    "\n",
    "# The bike rides dataset\n",
    "\n",
    "This notebook presents the \"Bike Ride\" dataset. The dataset exists in the directory\n",
    "`datasets` in comma separated values (CSV) format.\n",
    "\n",
    "## Presentation of the dataset\n",
    "\n",
    "We open this dataset using pandas."
   ]
  },
  {
   "cell_type": "code",
   "execution_count": null,
   "id": "4b6c2282",
   "metadata": {},
   "outputs": [],
   "source": [
    "# When using JupyterLite, uncomment and install the `skrub` package.\n",
    "%pip install skrub\n",
    "import matplotlib.pyplot as plt\n",
    "import skrub\n",
    "\n",
    "skrub.patch_display()  # makes nice display for pandas tables"
   ]
  },
  {
   "cell_type": "code",
   "execution_count": null,
   "id": "188cb13b",
   "metadata": {},
   "outputs": [],
   "source": [
    "import pandas as pd\n",
    "\n",
    "cycling = pd.read_csv(\"../datasets/bike_rides.csv\")\n",
    "cycling"
   ]
  },
  {
   "cell_type": "markdown",
   "id": "15368db8",
   "metadata": {},
   "source": [
    "\n",
    "The first column `timestamp` contains specific information about the time and date\n",
    "of each record while other columns contain numerical measurements. Let's check the\n",
    "data types of the columns in detail."
   ]
  },
  {
   "cell_type": "code",
   "execution_count": null,
   "id": "163585af",
   "metadata": {},
   "outputs": [],
   "source": [
    "cycling.info()"
   ]
  },
  {
   "cell_type": "markdown",
   "id": "cd970f5b",
   "metadata": {},
   "source": [
    "\n",
    "CSV format stores data as text. Pandas infers numerical types by default. This\n",
    "explains why all features except `timestamp` appear as floating point values.\n",
    "However, the `timestamp` appears as an `object` column. This means the data in\n",
    "this column exists as `str` rather than a specialized `datetime` data type.\n",
    "\n",
    "We need to set an option to tell pandas to infer this data type when opening\n",
    "the file. Additionally, we want to use `timestamp` as an index. We reopen the\n",
    "file with extra arguments to help pandas read our CSV file properly."
   ]
  },
  {
   "cell_type": "code",
   "execution_count": null,
   "id": "7270371c",
   "metadata": {},
   "outputs": [],
   "source": [
    "cycling = pd.read_csv(\n",
    "    \"../datasets/bike_rides.csv\", index_col=0, parse_dates=True\n",
    ")\n",
    "cycling.index.name = \"\"\n",
    "cycling"
   ]
  },
  {
   "cell_type": "code",
   "execution_count": null,
   "id": "ef96e4d9",
   "metadata": {},
   "outputs": [],
   "source": [
    "cycling.info()"
   ]
  },
  {
   "cell_type": "markdown",
   "id": "1158dbc3",
   "metadata": {},
   "source": [
    "\n",
    "By telling pandas to parse the date, we get a `DatetimeIndex` that helps filter\n",
    "data based on date.\n",
    "\n",
    "Let's examine the data stored in our dataframe. This helps us frame the data\n",
    "science problem we aim to solve.\n",
    "\n",
    "The records include information from GPS recordings of a cyclist (`speed`,\n",
    "`acceleration`, `slope`) and extra information from other sensors: `heart-rate`\n",
    "shows the number of heart beats per minute, `cadence` indicates how fast the\n",
    "cyclist turns the pedals, and `power` measures the work required to move forward.\n",
    "\n",
    "To explain power more intuitively:\n",
    "\n",
    "Consider a soup blender used to blend vegetables. The blender's engine develops\n",
    "~300 Watts of instantaneous power. Here, our cyclist acts as the engine (though\n",
    "an average cyclist develops ~150 Watts) and moving forward replaces blending\n",
    "vegetables.\n",
    "\n",
    "Professional cyclists use power to calibrate their training and track energy\n",
    "expenditure during rides. Higher power requires more energy, which demands more\n",
    "resources to create this energy. Humans use food as their resource. A soup\n",
    "blender might use uranium, petrol, natural gas, or coal. Our body works as a\n",
    "power plant to transform resources into energy.\n",
    "\n",
    "The challenge with measuring power relates to sensor cost: a cycling power meter\n",
    "costs between $400 and $1000. This leads to our data science problem: predict\n",
    "instantaneous cyclist power using other (cheaper) sensors."
   ]
  },
  {
   "cell_type": "code",
   "execution_count": null,
   "id": "e1001b78",
   "metadata": {},
   "outputs": [],
   "source": [
    "target_name = \"power\"\n",
    "data, target = cycling.drop(columns=target_name), cycling[target_name]"
   ]
  },
  {
   "cell_type": "markdown",
   "id": "5b5aa091",
   "metadata": {},
   "source": [
    "\n",
    "Let's examine the target distribution first."
   ]
  },
  {
   "cell_type": "code",
   "execution_count": null,
   "id": "386252a0",
   "metadata": {},
   "outputs": [],
   "source": [
    "_, ax = plt.subplots()\n",
    "target.plot.hist(bins=50, edgecolor=\"black\", ax=ax)\n",
    "ax.set_xlabel(\"Power (W)\")\n",
    "plt.show()"
   ]
  },
  {
   "cell_type": "markdown",
   "id": "e75a168b",
   "metadata": {},
   "source": [
    "\n",
    "We see a peak at 0 Watts, representing moments when the cyclist stops pedaling\n",
    "(during descents or stops). On average, this cyclist delivers ~200 Watts. A long\n",
    "tail extends from ~300 Watts to ~400 Watts. This range represents efforts a\n",
    "cyclist trains to reproduce for breakaways in the final kilometers of a race.\n",
    "However, the human body finds it costly to maintain this power output.\n",
    "\n",
    "Let's examine the data."
   ]
  },
  {
   "cell_type": "code",
   "execution_count": null,
   "id": "706dcb7f",
   "metadata": {},
   "outputs": [],
   "source": [
    "data"
   ]
  },
  {
   "cell_type": "markdown",
   "id": "918d8a0d",
   "metadata": {},
   "source": [
    "\n",
    "First, let's look closely at the dataframe index."
   ]
  },
  {
   "cell_type": "code",
   "execution_count": null,
   "id": "23a9191a",
   "metadata": {},
   "outputs": [],
   "source": [
    "data.index"
   ]
  },
  {
   "cell_type": "markdown",
   "id": "95766b75",
   "metadata": {},
   "source": [
    "\n",
    "The records occur every second."
   ]
  },
  {
   "cell_type": "code",
   "execution_count": null,
   "id": "7da0014c",
   "metadata": {},
   "outputs": [],
   "source": [
    "data.index.min(), data.index.max()"
   ]
  },
  {
   "cell_type": "markdown",
   "id": "4b6954a7",
   "metadata": {},
   "source": [
    "\n",
    "The data spans from August 18, 2020 to September 13, 2020. Obviously, our cyclist\n",
    "did not ride every second between these dates. Only a few dates should appear in\n",
    "the dataframe, matching the number of cycling rides."
   ]
  },
  {
   "cell_type": "code",
   "execution_count": null,
   "id": "1bb95270",
   "metadata": {},
   "outputs": [],
   "source": [
    "data.index.normalize().nunique()"
   ]
  },
  {
   "cell_type": "markdown",
   "id": "2489cde6",
   "metadata": {},
   "source": [
    "\n",
    "Four different dates correspond to four rides. Let's extract only the first ride\n",
    "from August 18, 2020."
   ]
  },
  {
   "cell_type": "code",
   "execution_count": null,
   "id": "afd8096e",
   "metadata": {},
   "outputs": [],
   "source": [
    "date_first_ride = \"2020-08-18\"\n",
    "cycling_ride = cycling.loc[date_first_ride]\n",
    "data_ride, target_ride = data.loc[date_first_ride], target.loc[date_first_ride]"
   ]
  },
  {
   "cell_type": "code",
   "execution_count": null,
   "id": "79886bf3",
   "metadata": {},
   "outputs": [],
   "source": [
    "_, ax = plt.subplots()\n",
    "data_ride.plot(ax=ax)\n",
    "ax.legend(bbox_to_anchor=(1.05, 1), loc=\"upper left\")\n",
    "ax.set_title(\"Sensor values for different cyclist measurements\")\n",
    "plt.show()"
   ]
  },
  {
   "cell_type": "markdown",
   "id": "10f5d936",
   "metadata": {},
   "source": [
    "\n",
    "Different units and ranges for each measurement (feature) make the plot hard to\n",
    "interpret. Also, high temporal resolution obscures observations. Let's resample\n",
    "the data for a smoother visualization."
   ]
  },
  {
   "cell_type": "code",
   "execution_count": null,
   "id": "0b30c560",
   "metadata": {},
   "outputs": [],
   "source": [
    "data_ride.resample(\"60s\").mean().plot()\n",
    "ax.legend(bbox_to_anchor=(1.05, 1), loc=\"upper left\")\n",
    "ax.set_title(\"Sensor values for different cyclist measurements\")\n",
    "plt.show()"
   ]
  },
  {
   "cell_type": "markdown",
   "id": "56e819b9",
   "metadata": {},
   "source": [
    "\n",
    "Let's check the range of different features:"
   ]
  },
  {
   "cell_type": "code",
   "execution_count": null,
   "id": "5a068623",
   "metadata": {},
   "outputs": [],
   "source": [
    "axs = data_ride.hist(figsize=(10, 12), bins=50, edgecolor=\"black\", grid=False)\n",
    "# add the units to the plots\n",
    "units = [\n",
    "    \"beats per minute\",\n",
    "    \"rotations per minute\",\n",
    "    \"meters per second\",\n",
    "    \"meters per second squared\",\n",
    "    \"%\",\n",
    "]\n",
    "for unit, ax in zip(units, axs.ravel()):\n",
    "    ax.set_xlabel(unit)\n",
    "plt.subplots_adjust(hspace=0.6)\n",
    "plt.show()"
   ]
  },
  {
   "cell_type": "markdown",
   "id": "de1e947c",
   "metadata": {},
   "source": [
    "\n",
    "These plots reveal interesting information: a cyclist spends time without\n",
    "pedaling. These samples correspond to null power. The slope also shows large\n",
    "extremes.\n",
    "\n",
    "Let's create a pair plot on a subset of data samples to confirm these insights."
   ]
  },
  {
   "cell_type": "code",
   "execution_count": null,
   "id": "03b66e44",
   "metadata": {},
   "outputs": [],
   "source": [
    "import numpy as np\n",
    "\n",
    "rng = np.random.default_rng(0)\n",
    "indices = rng.choice(np.arange(cycling_ride.shape[0]), size=500, replace=False)"
   ]
  },
  {
   "cell_type": "code",
   "execution_count": null,
   "id": "c9a13def",
   "metadata": {},
   "outputs": [],
   "source": [
    "subset = cycling_ride.iloc[indices].copy()\n",
    "# Quantize the target and keep the midpoint for each interval\n",
    "subset[\"power\"] = pd.qcut(subset[\"power\"], 6, retbins=False)\n",
    "subset[\"power\"] = subset[\"power\"].apply(lambda x: x.mid)"
   ]
  },
  {
   "cell_type": "code",
   "execution_count": null,
   "id": "cd8e59f0",
   "metadata": {},
   "outputs": [],
   "source": [
    "# install seaborn when you are using JupyterLite\n",
    "%pip install seaborn\n",
    "import seaborn as sns\n",
    "\n",
    "sns.pairplot(data=subset, hue=\"power\", palette=\"viridis\")\n",
    "plt.show()"
   ]
  },
  {
   "cell_type": "markdown",
   "id": "725f5659",
   "metadata": {},
   "source": [
    "\n",
    "Low cadence correlates with low power. Higher slopes and heart-rates link to\n",
    "higher power: a cyclist needs more energy to climb hills, which demands more\n",
    "from the body. The interaction between slope and speed confirms this: lower\n",
    "speed with higher slope typically means higher power.\n",
    "\n",
    "## Data science challenge\n",
    "\n",
    "This challenge asks you to predict cyclist power from other sensor measurements.\n",
    "\n",
    "Go beyond the baseline model! Here are some ideas:\n",
    "\n",
    "- Use physical models of the bike and cyclist to predict power (e.g. use\n",
    "  velocity and slope to predict power needed for climbing).\n",
    "- Try a black-box approach.\n",
    "- Predict confidence intervals.\n",
    "- Analyze sensor influence (i.e. feature importance).\n",
    "- Evaluate your models using cross-validation.\n",
    "- And more!"
   ]
  }
 ],
 "metadata": {
  "jupytext": {
   "cell_metadata_filter": "-all",
   "main_language": "python",
   "notebook_metadata_filter": "-all"
  },
  "language_info": {
   "name": "python"
  }
 },
 "nbformat": 4,
 "nbformat_minor": 5
}
